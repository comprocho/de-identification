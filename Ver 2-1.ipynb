{
 "cells": [
  {
   "cell_type": "code",
   "execution_count": null,
   "metadata": {
    "collapsed": false,
    "deletable": true,
    "editable": true
   },
   "outputs": [],
   "source": [
    "import pandas as pd\n",
    "import numpy as np\n",
    "import re\n",
    "\n",
    "df1_filename = input('Please type the name of the file you want to de-identify: ')\n",
    "df2_filename = input('Please type the name of the file that contains index #: ')\n",
    "\n",
    "df1 = pd.read_excel(df1_filename)\n",
    "df2 = pd.read_excel(df2_filename) \n",
    "\n",
    "df1['Index#'] = pd.Series()\n",
    "x1 = df1.set_index(['Medical_Record_Number'])['Index#']\n",
    "x2 = df2.set_index(['MRN'])['Index#']\n",
    "x1.update(x2)\n",
    "df1['Index#'] = x1.values.astype(int)"
   ]
  },
  {
   "cell_type": "code",
   "execution_count": null,
   "metadata": {
    "collapsed": false,
    "deletable": true,
    "editable": true,
    "scrolled": true
   },
   "outputs": [],
   "source": [
    "#Creates new dataframe containing only date-related columns\n",
    "date_column = ['Date_of_Last_Contact',\n",
    "               'Date_of_Initial_Diagnosis',\n",
    "               'Hx_Date_Recurrence',\n",
    "               'Rx_Start_Date',\n",
    "               'Date_RT_Started',\n",
    "               'Date_RT_Ended']\n",
    "date_only = df1[date_column]\n",
    "do = date_only.copy()\n",
    "\n",
    "#Exports column 'Date_of_Birth' to new series\n",
    "dob = df1['Date_of_Birth']\n",
    "\n",
    "#Parses all values in different form of datetime format to the unified datetime format\n",
    "for d in do:\n",
    "    do[d] = pd.to_datetime(do[d], errors='coerce')\n",
    "\n",
    "#Creates a dictionary for a list of column headers in dataframe do\n",
    "dict_do = {1: 'Date_of_Last_Contact',\n",
    "           2: 'Date_of_Initial_Diagnosis',\n",
    "           3: 'Hx_Date_Recurrence',\n",
    "           4: 'Rx_Start_Date',\n",
    "           5: 'Date_RT_Started',\n",
    "           6: 'Date_RT_Ended'}\n",
    "#Creates a dictionary for a list of column headers that will be inserted into dataframe do\n",
    "dict_age = {1: 'Age_Last_Contact',\n",
    "            2: 'Age_Initial_Diagnosis',\n",
    "            3: 'Age_Hx_Recurrence',\n",
    "            4: 'Age_Rx_Start',\n",
    "            5: 'Age_RT_Started',\n",
    "            6: 'Age_Rx_Ended'}\n",
    "#Loops through dataframe columns, calculates difference between date and date of birth, and converts to number of years\n",
    "for i in dict_do:\n",
    "    td = (do[dict_do[i]].sub(dob))/365\n",
    "    td = (td / np.timedelta64(1, 'D')).astype(float)\n",
    "    do[dict_age[i]] = td.round(3)\n",
    "\n",
    "#Drops columns containing sensitive data from dataframe do\n",
    "do.drop(do.columns[0:6], axis=1, inplace=True)\n",
    "\n",
    "#Drops columns containing sensitive data from dataframe df1\n",
    "df1.drop(df1.columns[[0,1,2,3,5,9,34,35,39,40]], axis=1, inplace=True)\n",
    "\n",
    "#Merges df1 and do\n",
    "df1 = pd.concat([df1, do], axis=1)"
   ]
  },
  {
   "cell_type": "code",
   "execution_count": null,
   "metadata": {
    "collapsed": false,
    "deletable": true,
    "editable": true
   },
   "outputs": [],
   "source": [
    "text_column =['Text_Ancillary_Therapy', \n",
    "              'Text_Chemotherapy', \n",
    "              'Text_Hormone_Therapy', \n",
    "              'Text_Immunotherapy', \n",
    "              'Text_Other_Radiation', \n",
    "              'Text_Other_Treatment',\n",
    "              'Text_Radiation_Therapy',\n",
    "              'Text_Treatment']\n",
    "te = df1[text_column].copy()\n",
    "te = te.apply(lambda x: x.astype(str).str.lower()).replace(np.nan, ' ', regex=True)\n"
   ]
  },
  {
   "cell_type": "code",
   "execution_count": null,
   "metadata": {
    "collapsed": true,
    "deletable": true,
    "editable": true
   },
   "outputs": [],
   "source": []
  },
  {
   "cell_type": "code",
   "execution_count": null,
   "metadata": {
    "collapsed": false,
    "deletable": true,
    "editable": true
   },
   "outputs": [],
   "source": [
    "te"
   ]
  },
  {
   "cell_type": "code",
   "execution_count": null,
   "metadata": {
    "collapsed": false,
    "deletable": true,
    "editable": true
   },
   "outputs": [],
   "source": [
    "# unction to extract date types from text fields\n",
    "def date_extract(object):\n",
    "    global te\n",
    "    te['Date Ranges'] =te[object].str.extract(r'(\\d+/\\d+/\\d+-\\d+/\\d+/\\d+)', expand=True)\n",
    "    te[object] = te[object].str.replace(r'(\\d+/\\d+/\\d+-\\d+/\\d+/\\d+)', '')\n",
    "\n",
    "    te['Date Ranges Two'] = te[object].str.extract(r'(\\d+\\/\\d{4} to \\d+\\/\\d{4})', expand=True)\n",
    "    te[object] = te[object].str.replace(r'(\\d+\\/\\d{4} to \\d+\\/\\d{4})', '')\n",
    "\n",
    "    te['Single Date'] = te[object].str.extract(r'(\\d+/\\d+/\\d+)', expand=True)\n",
    "    te[object] = te[object].str.replace(r'(\\d+/\\d+/\\d+)', '')\n",
    "\n",
    "    te['Single Date Two'] = te[object].str.extract(r'(\\d+\\/\\d{4})', expand=True)\n",
    "    te[object] = te[object].str.replace(r'(\\d+\\/\\d{4})', '')\n",
    "\n",
    "    te['Date Range'] = pd.concat([te['Date Ranges'].dropna(), te['Date Ranges Two'].dropna()]).reindex_like(te)\n",
    "    te['Date Range' +' (' + object + ')'] = te['Date Range'].str.replace(' to ', '-')\n",
    "\n",
    "    te['Date'+' (' + object + ')'] = pd.concat([te['Single Date'].dropna(), te['Single Date Two'].dropna()]).reindex_like(te)\n",
    "    \n",
    "    te = te.drop(['Single Date', 'Single Date Two','Date Ranges', 'Date Ranges Two', 'Date Range'], axis=1)\n",
    "\n",
    "    te[object] = te[object].str.replace(r'(\\s){2,10}', ' ')\n",
    "for i in text_column:\n",
    "    date_extract(i)\n",
    "te"
   ]
  },
  {
   "cell_type": "code",
   "execution_count": null,
   "metadata": {
    "collapsed": false,
    "deletable": true,
    "editable": true
   },
   "outputs": [],
   "source": [
    "stems = pd.read_excel('Drug Suffix.xlsx')\n",
    "tlist = pd.read_excel('treatment_dict.xlsx')\n",
    "stems= stems['Stems']\n",
    "tlist = tlist['dict']"
   ]
  },
  {
   "cell_type": "code",
   "execution_count": null,
   "metadata": {
    "collapsed": true,
    "deletable": true,
    "editable": true
   },
   "outputs": [],
   "source": [
    "# def text_extract(object):\n",
    "#     global te\n",
    "#     pat = r'\\b(\\w*(?:{})\\w*)\\b'.format(stems.str.cat(sep='|'))\n",
    "\n",
    "#     te['Drugs'+' (' + object + ')'] = te[object].str.extractall(pat, flags=re.I).unstack().apply(lambda x:', '.join(x.dropna()), axis=1)\n",
    "#     te[object] = te[object].str.replace(pat, ' ')\n",
    "#     te[object] = te[object].str.rjust(2, ' ')\n",
    "\n",
    "#     te[object] = te[object].str.replace(',|\\.|:|\\+|(\\s)(-)|(-)(\\s)', ' ')\n",
    "#     te[object] = te[object].str.replace(r'(lt & rt)', ' bilateral ')\n",
    "#     te[object] = te[object].str.replace(r'(\\s)(l)(\\s)|(\\s)(lt)(\\s)|^(lt)(\\s)', ' left ')\n",
    "#     te[object] = te[object].str.replace(r'(\\s)(r)(\\s)|(\\s)(rt)(\\s)|^(rt)(\\s)', ' right ')\n",
    "#     te[object] = te[object].str.replace(r'(\\s){2,10}', ' ')\n",
    "\n",
    "#     tpat = r'\\b(\\w*(?:{})\\w*)\\b'.format(tlist.str.cat(sep='|'))\n",
    "#     te['treat_type' +' (' + object + ')'] = te[object].str.extractall(tpat, flags=re.I).unstack().apply(lambda x:', '.join(x.dropna()), axis=1)\n",
    "\n",
    "#     te[object] = te[object].str.replace(tpat, '').str.replace(r'(\\s){2,10}', ' ').str.strip()"
   ]
  },
  {
   "cell_type": "code",
   "execution_count": null,
   "metadata": {
    "collapsed": false,
    "deletable": true,
    "editable": true
   },
   "outputs": [],
   "source": [
    "def drug_extract(object):\n",
    "    pat = r'\\b(\\w*(?:{})\\w*)\\b'.format(stems.str.cat(sep='|'))\n",
    "    \n",
    "    try:\n",
    "        te['Drugs'+' (' + object + ')'] = te[object].str.extractall(pat, flags=re.I).unstack().apply(lambda x:', '.join(x.dropna()), axis=1)\n",
    "    except:\n",
    "        te[object] = te[object].str.replace('nan', 'empty')\n",
    "    \n",
    "    te[object] = te[object].str.replace(pat, ' ')\n",
    "    te[object] = te[object].str.rjust(2, ' ')\n",
    "    te[object] = te[object].str.replace(',|\\.|:|\\+|(\\s)(-)|(-)(\\s)', ' ')\n",
    "    te[object] = te[object].str.replace(r'(lt & rt)', ' bilateral ')\n",
    "    te[object] = te[object].str.replace(r'(\\s)(l)(\\s)|(\\s)(lt)(\\s)|^(lt)(\\s)', ' left ')\n",
    "    te[object] = te[object].str.replace(r'(\\s)(r)(\\s)|(\\s)(rt)(\\s)|^(rt)(\\s)', ' right ')\n",
    "    te[object] = te[object].str.replace(r'(\\s){2,10}', ' ')\n",
    "\n",
    "def treatment_extract(object):\n",
    "    tpat = r'\\b(\\w*(?:{})\\w*)\\b'.format(tlist.str.cat(sep='|'))\n",
    "    \n",
    "    try:\n",
    "        te['treat_type' +' (' + object + ')'] = te[object].str.extractall(tpat, flags=re.I).unstack().apply(lambda x:', '.join(x.dropna()), axis=1)\n",
    "    except:\n",
    "        te[object] = te[object].str.replace('nan', 'empty')\n",
    "    \n",
    "    te[object] = te[object].str.replace(tpat, ' ')\n",
    "    \n",
    "# def cleaning_text(object):\n",
    "    "
   ]
  },
  {
   "cell_type": "code",
   "execution_count": null,
   "metadata": {
    "collapsed": false,
    "deletable": true,
    "editable": true
   },
   "outputs": [],
   "source": [
    "for i in text_column:\n",
    "    drug_extract(i)\n",
    "\n",
    "for i in text_column:\n",
    "    treatment_extract(i)"
   ]
  },
  {
   "cell_type": "code",
   "execution_count": null,
   "metadata": {
    "collapsed": false,
    "deletable": true,
    "editable": true
   },
   "outputs": [],
   "source": [
    "te"
   ]
  },
  {
   "cell_type": "code",
   "execution_count": null,
   "metadata": {
    "collapsed": true,
    "deletable": true,
    "editable": true
   },
   "outputs": [],
   "source": [
    "# te.to_excel('inspect.xlsx')"
   ]
  },
  {
   "cell_type": "code",
   "execution_count": null,
   "metadata": {
    "collapsed": true,
    "deletable": true,
    "editable": true
   },
   "outputs": [],
   "source": []
  }
 ],
 "metadata": {
  "kernelspec": {
   "display_name": "Python 3",
   "language": "python",
   "name": "python3"
  },
  "language_info": {
   "codemirror_mode": {
    "name": "ipython",
    "version": 3
   },
   "file_extension": ".py",
   "mimetype": "text/x-python",
   "name": "python",
   "nbconvert_exporter": "python",
   "pygments_lexer": "ipython3",
   "version": "3.5.2"
  }
 },
 "nbformat": 4,
 "nbformat_minor": 2
}
